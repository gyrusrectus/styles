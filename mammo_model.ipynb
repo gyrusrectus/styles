{
  "nbformat": 4,
  "nbformat_minor": 0,
  "metadata": {
    "accelerator": "GPU",
    "colab": {
      "name": "mammo_model.ipynb",
      "provenance": [],
      "collapsed_sections": [],
      "include_colab_link": true
    },
    "kernelspec": {
      "display_name": "Python 3",
      "name": "python3"
    },
    "language_info": {
      "name": "python"
    }
  },
  "cells": [
    {
      "cell_type": "markdown",
      "metadata": {
        "id": "view-in-github",
        "colab_type": "text"
      },
      "source": [
        "<a href=\"https://colab.research.google.com/github/gyrusrectus/styles/blob/master/mammo_model.ipynb\" target=\"_parent\"><img src=\"https://colab.research.google.com/assets/colab-badge.svg\" alt=\"Open In Colab\"/></a>"
      ]
    },
    {
      "cell_type": "code",
      "metadata": {
        "id": "Rf4vktLyMsJz"
      },
      "source": [
        "import sys\n",
        "sys.path.insert(0,\"/content/drive/MyDrive/Capstone/Python files\")"
      ],
      "execution_count": null,
      "outputs": []
    },
    {
      "cell_type": "code",
      "metadata": {
        "id": "vNIlkqU7XKyo"
      },
      "source": [
        "import mammo_crop_flip\n",
        "import config_mammo"
      ],
      "execution_count": null,
      "outputs": []
    },
    {
      "cell_type": "code",
      "metadata": {
        "colab": {
          "base_uri": "https://localhost:8080/"
        },
        "id": "qKibRKOwdNaI",
        "outputId": "7e899d1f-41d6-4c08-d769-a7b5bab28c14"
      },
      "source": [
        "import os,time\n",
        "import sklearn.metrics as metrics\n",
        "import scipy.io\n",
        "import torch\n",
        "import torchvision.transforms as transforms\n",
        "import torch.nn.functional as F\n",
        "import torchvision.models as models\n",
        "import torch.nn as nn\n",
        "import matplotlib.pyplot as plt\n",
        "import numpy as np\n",
        "from torch.autograd import Variable\n",
        "import tqdm\n",
        "import torch.nn as nn\n",
        "from datetime import datetime\n",
        "from config_mammo import Config\n",
        "from mydataset_mammo import MammoTrain\n",
        "import torch.optim as optim\n",
        "from torch.optim import lr_scheduler\n",
        "\n",
        "\n",
        "print ('*******************************************************')\n",
        "start_time=time.time()\n",
        "saveDir='/content/drive/MyDrive/Capstone/savedmodels'\n",
        "cwd=os.getcwd()\n",
        "directory=saveDir+datetime.now().strftime(\"%d%b_%I%M%P_\")+'model'\n",
        "print('Model will be saved to  :', directory)\n",
        "\n",
        "if not os.path.exists(directory):\n",
        "     os.makedirs(directory)\n",
        "\n",
        "config  = Config()\n",
        "\n",
        "weights = np.array([1.38, 4.27, 5.87, 1.00])\n",
        "\n",
        "train_dir=\"/content/drive/MyDrive/Capstone/CSV files/train_mammo.csv\"\n",
        "val_dir=\"/content/drive/MyDrive/Capstone/CSV files/val_mammo.csv\"\n",
        "image_dir=\"/content/drive/MyDrive/Capstone/JPEG_first_part\"\n",
        "\n",
        "# make the data iterator for training data\n",
        "train_data = MammoTrain(train_dir,image_dir)\n",
        "trainloader = torch.utils.data.DataLoader(train_data, batch_size=config.batchsize, shuffle=True, num_workers=2)\n",
        "\n",
        "val_data = MammoTrain(val_dir,image_dir)\n",
        "valloader = torch.utils.data.DataLoader(val_data, batch_size=config.batchsize, shuffle=True, num_workers=2)\n",
        "\n",
        "\n",
        "\n",
        "\n",
        "print('----------------------------------------------------------')\n",
        "#%%\n",
        "# Create the object for the network\n",
        "\n",
        "if config.gpu == True:    \n",
        "    net = models.resnet18(pretrained=False)\n",
        "    net.conv1 = nn.Conv2d(1, 64, kernel_size=7, stride=2, padding=3, bias=False)    \n",
        "    net.fc=nn.Linear(512,2)\n",
        "    net.cuda()\n",
        "    net.train() \n",
        "    #class_weights = torch.FloatTensor(weights).cuda(config.gpuid)\n",
        "    \n",
        "else:\n",
        "    net = models.resnet18(pretrained=False)\n",
        "    net.conv1 = nn.Conv2d(1, 64, kernel_size=7, stride=2, padding=3, bias=False)    \n",
        "    net.fc=nn.Linear(512,2)\n",
        "    \n",
        "\n",
        "   \n",
        "# Define the optimizer\n",
        "optimizer = optim.Adam(net.parameters(),lr=5e-4)\n",
        "scheduler = lr_scheduler.StepLR(optimizer, step_size=15, gamma=0.1)\n",
        "\n",
        "# Define the loss function\n",
        "criterion = nn.CrossEntropyLoss()\n",
        "\n",
        "\n",
        "# Iterate over the training dataset\n",
        "train_loss = []\n",
        "val_loss = []\n",
        "acc = []\n",
        "\n",
        "\n",
        "for j in range(config.epochs):  \n",
        "    # Start epochs   \n",
        "    runtrainloss = 0\n",
        "    runvalloss = 0\n",
        "    \n",
        "    \n",
        "    for i,data in tqdm.tqdm(enumerate(trainloader)): \n",
        "        # start iterations\n",
        "        images,trainLabels = Variable(data[0]),Variable(data[1])\n",
        "        \n",
        "        # ckeck if gpu is available\n",
        "        if config.gpu == True:\n",
        "            images  = images.cuda()\n",
        "            trainLabels = trainLabels.cuda()\n",
        "                    \n",
        "        # make forward pass      \n",
        "        output = net(images)\n",
        "       \n",
        "        #compute loss\n",
        "        loss   = criterion(output, trainLabels)        \n",
        "                \n",
        "        # make gradients zero\n",
        "        optimizer.zero_grad()\n",
        "        \n",
        "        # back propagate\n",
        "        loss.backward()\n",
        "        \n",
        "        # Accumulate loss for current minibatch\n",
        "        runtrainloss += loss.item()\n",
        "        \n",
        "        \n",
        "        # update the parameters\n",
        "        optimizer.step()       \n",
        "        \n",
        "       \n",
        "    # print loss after every epoch\n",
        "    \n",
        "    print('\\n Training - Epoch {}/{}, loss:{:.4f} '.format(j+1, config.epochs, runtrainloss/len(trainloader)))\n",
        "    train_loss.append(runtrainloss/len(trainloader))\n",
        "    \n",
        "       \n",
        "    # Take a step for scheduler\n",
        "    scheduler.step()\n",
        "    \n",
        "    net.eval()\n",
        "    total =0\n",
        "    correct = 0\n",
        "    for i,data in tqdm.tqdm(enumerate(valloader)): \n",
        "         # start iterations\n",
        "         images,valLabels = Variable(data[0]),Variable(data[1])\n",
        "        \n",
        "    #     # ckeck if gpu is available\n",
        "         if config.gpu == True:\n",
        "             images  = images.cuda()\n",
        "             valLabels = valLabels.cuda()\n",
        "                    \n",
        "    #     # make forward pass      \n",
        "         output = net(images)\n",
        "        \n",
        "    #     # Find Accuracy\n",
        "         _, predicted = torch.max(F.softmax(output, dim=1), dim=1)\n",
        "         total += valLabels.size(0)\n",
        "         correct += (predicted == valLabels).sum().item()\n",
        "       \n",
        "    #     #compute loss\n",
        "         loss   = criterion(output, valLabels)        \n",
        "                \n",
        "    #     # Accumulate loss for current minibatch\n",
        "         runvalloss += loss.item()\n",
        "        \n",
        "           \n",
        "    # # print loss after every epoch\n",
        "    \n",
        "    print(' \\n Validatn - Epoch {}/{}, loss:{:.4f}, Acc:{:.4f}'.format(j+1, \n",
        "                 config.epochs, runvalloss/len(valloader), correct / total))\n",
        "    val_loss.append(runvalloss/len(valloader))\n",
        "    acc.append(correct / total)\n",
        "    \n",
        "    print('----------------------------------------------------------')\n",
        "    \n",
        "    \n",
        "    #save the model   \n",
        "    torch.save(net.state_dict(),os.path.join(directory,\"Resnet_crop_flip\" + str(j+1) +\"_model.pth\"))\n",
        "    \n",
        "    \n",
        "    \t    \n",
        "\n",
        "# Save the train stats\n",
        "\n",
        "np.save(directory + '/trnloss.npy',np.array(train_loss) )\n",
        "np.save(directory + '/valloss.npy',np.array(val_loss) )\n",
        "np.save(directory + '/acc.npy',    np.array(   acc    ) )\n",
        "\n",
        "\n",
        "# plot the training loss\n",
        "\n",
        "x = range(config.epochs)\n",
        "plt.figure()\n",
        "plt.plot(x,train_loss,label='Training')\n",
        "plt.xlabel('epochs')\n",
        "plt.ylabel('Train Loss ') \n",
        "plt.legend(loc=\"upper left\")  \n",
        "plt.show()\n",
        "plt.figure()\n",
        "plt.plot(x,val_loss,label='Validation')\n",
        "plt.xlabel('epochs')\n",
        "plt.ylabel('Val Loss ') \n",
        "plt.legend(loc=\"upper left\")  \n",
        "plt.show()\n",
        "plt.figure()\n",
        "plt.plot(x,acc,label='Validation')\n",
        "plt.xlabel('epochs')\n",
        "plt.ylabel('Val acc ') \n",
        "plt.legend(loc=\"upper left\")  \n",
        "plt.show()"
      ],
      "execution_count": null,
      "outputs": [
        {
          "output_type": "stream",
          "text": [
            "*******************************************************\n",
            "Model will be saved to  : /content/drive/MyDrive/Capstone/savedmodels14Jul_0249pm_model\n",
            "----------------------------------------------------------\n"
          ],
          "name": "stdout"
        },
        {
          "output_type": "stream",
          "text": [
            "0it [00:00, ?it/s]/usr/local/lib/python3.7/dist-packages/torch/nn/functional.py:718: UserWarning: Named tensors and all their associated APIs are an experimental feature and subject to change. Please do not use them for anything important until they are released as stable. (Triggered internally at  /pytorch/c10/core/TensorImpl.h:1156.)\n",
            "  return torch.max_pool2d(input, kernel_size, stride, padding, dilation, ceil_mode)\n",
            "53it [24:48, 28.08s/it]"
          ],
          "name": "stderr"
        },
        {
          "output_type": "stream",
          "text": [
            "\n",
            " Training - Epoch 1/50, loss:0.6921 \n"
          ],
          "name": "stdout"
        },
        {
          "output_type": "stream",
          "text": [
            "\n",
            "13it [05:08, 23.74s/it]\n"
          ],
          "name": "stderr"
        },
        {
          "output_type": "stream",
          "text": [
            " \n",
            " Validatn - Epoch 1/50, loss:0.7032, Acc:0.4748\n",
            "----------------------------------------------------------\n"
          ],
          "name": "stdout"
        },
        {
          "output_type": "stream",
          "text": [
            "53it [23:07, 26.17s/it]"
          ],
          "name": "stderr"
        },
        {
          "output_type": "stream",
          "text": [
            "\n",
            " Training - Epoch 2/50, loss:0.7066 \n"
          ],
          "name": "stdout"
        },
        {
          "output_type": "stream",
          "text": [
            "\n",
            "13it [03:57, 18.25s/it]\n"
          ],
          "name": "stderr"
        },
        {
          "output_type": "stream",
          "text": [
            " \n",
            " Validatn - Epoch 2/50, loss:0.7495, Acc:0.5361\n",
            "----------------------------------------------------------\n"
          ],
          "name": "stdout"
        },
        {
          "output_type": "stream",
          "text": [
            "53it [23:02, 26.09s/it]"
          ],
          "name": "stderr"
        },
        {
          "output_type": "stream",
          "text": [
            "\n",
            " Training - Epoch 3/50, loss:0.6969 \n"
          ],
          "name": "stdout"
        },
        {
          "output_type": "stream",
          "text": [
            "\n",
            "13it [03:57, 18.28s/it]\n"
          ],
          "name": "stderr"
        },
        {
          "output_type": "stream",
          "text": [
            " \n",
            " Validatn - Epoch 3/50, loss:0.6894, Acc:0.5361\n",
            "----------------------------------------------------------\n"
          ],
          "name": "stdout"
        },
        {
          "output_type": "stream",
          "text": [
            "53it [23:05, 26.13s/it]"
          ],
          "name": "stderr"
        },
        {
          "output_type": "stream",
          "text": [
            "\n",
            " Training - Epoch 4/50, loss:0.6784 \n"
          ],
          "name": "stdout"
        },
        {
          "output_type": "stream",
          "text": [
            "\n",
            "13it [03:56, 18.19s/it]\n"
          ],
          "name": "stderr"
        },
        {
          "output_type": "stream",
          "text": [
            " \n",
            " Validatn - Epoch 4/50, loss:1.0002, Acc:0.5361\n",
            "----------------------------------------------------------\n"
          ],
          "name": "stdout"
        },
        {
          "output_type": "stream",
          "text": [
            "53it [22:26, 25.41s/it]"
          ],
          "name": "stderr"
        },
        {
          "output_type": "stream",
          "text": [
            "\n",
            " Training - Epoch 5/50, loss:0.7016 \n"
          ],
          "name": "stdout"
        },
        {
          "output_type": "stream",
          "text": [
            "\n",
            "13it [03:49, 17.67s/it]\n"
          ],
          "name": "stderr"
        },
        {
          "output_type": "stream",
          "text": [
            " \n",
            " Validatn - Epoch 5/50, loss:0.6884, Acc:0.5361\n",
            "----------------------------------------------------------\n"
          ],
          "name": "stdout"
        },
        {
          "output_type": "stream",
          "text": [
            "53it [22:20, 25.29s/it]"
          ],
          "name": "stderr"
        },
        {
          "output_type": "stream",
          "text": [
            "\n",
            " Training - Epoch 6/50, loss:0.6990 \n"
          ],
          "name": "stdout"
        },
        {
          "output_type": "stream",
          "text": [
            "\n",
            "13it [03:51, 17.83s/it]\n"
          ],
          "name": "stderr"
        },
        {
          "output_type": "stream",
          "text": [
            " \n",
            " Validatn - Epoch 6/50, loss:0.7341, Acc:0.4675\n",
            "----------------------------------------------------------\n"
          ],
          "name": "stdout"
        },
        {
          "output_type": "stream",
          "text": [
            "53it [22:12, 25.15s/it]"
          ],
          "name": "stderr"
        },
        {
          "output_type": "stream",
          "text": [
            "\n",
            " Training - Epoch 7/50, loss:0.7023 \n"
          ],
          "name": "stdout"
        },
        {
          "output_type": "stream",
          "text": [
            "\n",
            "13it [03:50, 17.75s/it]\n"
          ],
          "name": "stderr"
        },
        {
          "output_type": "stream",
          "text": [
            " \n",
            " Validatn - Epoch 7/50, loss:0.6928, Acc:0.5361\n",
            "----------------------------------------------------------\n"
          ],
          "name": "stdout"
        },
        {
          "output_type": "stream",
          "text": [
            "53it [22:24, 25.36s/it]"
          ],
          "name": "stderr"
        },
        {
          "output_type": "stream",
          "text": [
            "\n",
            " Training - Epoch 8/50, loss:0.6961 \n"
          ],
          "name": "stdout"
        },
        {
          "output_type": "stream",
          "text": [
            "\n",
            "13it [03:51, 17.84s/it]\n"
          ],
          "name": "stderr"
        },
        {
          "output_type": "stream",
          "text": [
            " \n",
            " Validatn - Epoch 8/50, loss:0.6916, Acc:0.5361\n",
            "----------------------------------------------------------\n"
          ],
          "name": "stdout"
        },
        {
          "output_type": "stream",
          "text": [
            "53it [22:25, 25.38s/it]"
          ],
          "name": "stderr"
        },
        {
          "output_type": "stream",
          "text": [
            "\n",
            " Training - Epoch 9/50, loss:0.6945 \n"
          ],
          "name": "stdout"
        },
        {
          "output_type": "stream",
          "text": [
            "\n",
            "13it [03:52, 17.88s/it]\n"
          ],
          "name": "stderr"
        },
        {
          "output_type": "stream",
          "text": [
            " \n",
            " Validatn - Epoch 9/50, loss:0.6895, Acc:0.5577\n",
            "----------------------------------------------------------\n"
          ],
          "name": "stdout"
        },
        {
          "output_type": "stream",
          "text": [
            "53it [22:21, 25.32s/it]"
          ],
          "name": "stderr"
        },
        {
          "output_type": "stream",
          "text": [
            "\n",
            " Training - Epoch 10/50, loss:0.6932 \n"
          ],
          "name": "stdout"
        },
        {
          "output_type": "stream",
          "text": [
            "\n",
            "13it [03:50, 17.71s/it]\n"
          ],
          "name": "stderr"
        },
        {
          "output_type": "stream",
          "text": [
            " \n",
            " Validatn - Epoch 10/50, loss:0.6888, Acc:0.5805\n",
            "----------------------------------------------------------\n"
          ],
          "name": "stdout"
        },
        {
          "output_type": "stream",
          "text": [
            "53it [22:22, 25.33s/it]"
          ],
          "name": "stderr"
        },
        {
          "output_type": "stream",
          "text": [
            "\n",
            " Training - Epoch 11/50, loss:0.6934 \n"
          ],
          "name": "stdout"
        },
        {
          "output_type": "stream",
          "text": [
            "\n",
            "13it [03:47, 17.47s/it]\n"
          ],
          "name": "stderr"
        },
        {
          "output_type": "stream",
          "text": [
            " \n",
            " Validatn - Epoch 11/50, loss:0.6903, Acc:0.5517\n",
            "----------------------------------------------------------\n"
          ],
          "name": "stdout"
        },
        {
          "output_type": "stream",
          "text": [
            "53it [22:39, 25.66s/it]"
          ],
          "name": "stderr"
        },
        {
          "output_type": "stream",
          "text": [
            "\n",
            " Training - Epoch 12/50, loss:0.6925 \n"
          ],
          "name": "stdout"
        },
        {
          "output_type": "stream",
          "text": [
            "\n",
            "13it [03:55, 18.08s/it]\n"
          ],
          "name": "stderr"
        },
        {
          "output_type": "stream",
          "text": [
            " \n",
            " Validatn - Epoch 12/50, loss:0.6987, Acc:0.4639\n",
            "----------------------------------------------------------\n"
          ],
          "name": "stdout"
        },
        {
          "output_type": "stream",
          "text": [
            "53it [22:23, 25.35s/it]"
          ],
          "name": "stderr"
        },
        {
          "output_type": "stream",
          "text": [
            "\n",
            " Training - Epoch 13/50, loss:0.6926 \n"
          ],
          "name": "stdout"
        },
        {
          "output_type": "stream",
          "text": [
            "\n",
            "13it [03:51, 17.79s/it]\n"
          ],
          "name": "stderr"
        },
        {
          "output_type": "stream",
          "text": [
            " \n",
            " Validatn - Epoch 13/50, loss:0.6865, Acc:0.5397\n",
            "----------------------------------------------------------\n"
          ],
          "name": "stdout"
        },
        {
          "output_type": "stream",
          "text": [
            "53it [22:25, 25.39s/it]"
          ],
          "name": "stderr"
        },
        {
          "output_type": "stream",
          "text": [
            "\n",
            " Training - Epoch 14/50, loss:0.6967 \n"
          ],
          "name": "stdout"
        },
        {
          "output_type": "stream",
          "text": [
            "\n",
            "13it [03:50, 17.72s/it]\n"
          ],
          "name": "stderr"
        },
        {
          "output_type": "stream",
          "text": [
            " \n",
            " Validatn - Epoch 14/50, loss:0.6863, Acc:0.5481\n",
            "----------------------------------------------------------\n"
          ],
          "name": "stdout"
        },
        {
          "output_type": "stream",
          "text": [
            "53it [21:46, 24.65s/it]"
          ],
          "name": "stderr"
        },
        {
          "output_type": "stream",
          "text": [
            "\n",
            " Training - Epoch 15/50, loss:0.6913 \n"
          ],
          "name": "stdout"
        },
        {
          "output_type": "stream",
          "text": [
            "\n",
            "13it [03:44, 17.26s/it]\n"
          ],
          "name": "stderr"
        },
        {
          "output_type": "stream",
          "text": [
            " \n",
            " Validatn - Epoch 15/50, loss:0.6877, Acc:0.5709\n",
            "----------------------------------------------------------\n"
          ],
          "name": "stdout"
        },
        {
          "output_type": "stream",
          "text": [
            "53it [22:10, 25.11s/it]"
          ],
          "name": "stderr"
        },
        {
          "output_type": "stream",
          "text": [
            "\n",
            " Training - Epoch 16/50, loss:0.6867 \n"
          ],
          "name": "stdout"
        },
        {
          "output_type": "stream",
          "text": [
            "\n",
            "13it [03:47, 17.52s/it]\n"
          ],
          "name": "stderr"
        },
        {
          "output_type": "stream",
          "text": [
            " \n",
            " Validatn - Epoch 16/50, loss:0.6840, Acc:0.5685\n",
            "----------------------------------------------------------\n"
          ],
          "name": "stdout"
        },
        {
          "output_type": "stream",
          "text": [
            "53it [21:57, 24.87s/it]"
          ],
          "name": "stderr"
        },
        {
          "output_type": "stream",
          "text": [
            "\n",
            " Training - Epoch 17/50, loss:0.6850 \n"
          ],
          "name": "stdout"
        },
        {
          "output_type": "stream",
          "text": [
            "\n",
            "13it [03:53, 17.99s/it]\n"
          ],
          "name": "stderr"
        },
        {
          "output_type": "stream",
          "text": [
            " \n",
            " Validatn - Epoch 17/50, loss:0.6817, Acc:0.5709\n",
            "----------------------------------------------------------\n"
          ],
          "name": "stdout"
        },
        {
          "output_type": "stream",
          "text": [
            "53it [23:08, 26.19s/it]"
          ],
          "name": "stderr"
        },
        {
          "output_type": "stream",
          "text": [
            "\n",
            " Training - Epoch 18/50, loss:0.6841 \n"
          ],
          "name": "stdout"
        },
        {
          "output_type": "stream",
          "text": [
            "\n",
            "13it [03:57, 18.26s/it]\n"
          ],
          "name": "stderr"
        },
        {
          "output_type": "stream",
          "text": [
            " \n",
            " Validatn - Epoch 18/50, loss:0.6800, Acc:0.5793\n",
            "----------------------------------------------------------\n"
          ],
          "name": "stdout"
        },
        {
          "output_type": "stream",
          "text": [
            "53it [22:39, 25.65s/it]"
          ],
          "name": "stderr"
        },
        {
          "output_type": "stream",
          "text": [
            "\n",
            " Training - Epoch 19/50, loss:0.6801 \n"
          ],
          "name": "stdout"
        },
        {
          "output_type": "stream",
          "text": [
            "\n",
            "13it [03:56, 18.18s/it]\n"
          ],
          "name": "stderr"
        },
        {
          "output_type": "stream",
          "text": [
            " \n",
            " Validatn - Epoch 19/50, loss:0.6753, Acc:0.5913\n",
            "----------------------------------------------------------\n"
          ],
          "name": "stdout"
        },
        {
          "output_type": "stream",
          "text": [
            "53it [22:53, 25.91s/it]"
          ],
          "name": "stderr"
        },
        {
          "output_type": "stream",
          "text": [
            "\n",
            " Training - Epoch 20/50, loss:0.6791 \n"
          ],
          "name": "stdout"
        },
        {
          "output_type": "stream",
          "text": [
            "\n",
            "13it [03:55, 18.10s/it]"
          ],
          "name": "stderr"
        },
        {
          "output_type": "stream",
          "text": [
            " \n",
            " Validatn - Epoch 20/50, loss:0.6709, Acc:0.5974\n",
            "----------------------------------------------------------\n"
          ],
          "name": "stdout"
        },
        {
          "output_type": "stream",
          "text": [
            "\n",
            "53it [22:33, 25.54s/it]"
          ],
          "name": "stderr"
        },
        {
          "output_type": "stream",
          "text": [
            "\n",
            " Training - Epoch 21/50, loss:0.6762 \n"
          ],
          "name": "stdout"
        },
        {
          "output_type": "stream",
          "text": [
            "\n",
            "13it [03:51, 17.79s/it]\n"
          ],
          "name": "stderr"
        },
        {
          "output_type": "stream",
          "text": [
            " \n",
            " Validatn - Epoch 21/50, loss:0.6688, Acc:0.6226\n",
            "----------------------------------------------------------\n"
          ],
          "name": "stdout"
        },
        {
          "output_type": "stream",
          "text": [
            "53it [22:46, 25.79s/it]"
          ],
          "name": "stderr"
        },
        {
          "output_type": "stream",
          "text": [
            "\n",
            " Training - Epoch 22/50, loss:0.6706 \n"
          ],
          "name": "stdout"
        },
        {
          "output_type": "stream",
          "text": [
            "\n",
            "13it [03:54, 18.06s/it]"
          ],
          "name": "stderr"
        },
        {
          "output_type": "stream",
          "text": [
            " \n",
            " Validatn - Epoch 22/50, loss:0.6610, Acc:0.5986\n",
            "----------------------------------------------------------\n"
          ],
          "name": "stdout"
        },
        {
          "output_type": "stream",
          "text": [
            "\n",
            "53it [22:44, 25.75s/it]"
          ],
          "name": "stderr"
        },
        {
          "output_type": "stream",
          "text": [
            "\n",
            " Training - Epoch 23/50, loss:0.6647 \n"
          ],
          "name": "stdout"
        },
        {
          "output_type": "stream",
          "text": [
            "\n",
            "13it [04:01, 18.56s/it]\n"
          ],
          "name": "stderr"
        },
        {
          "output_type": "stream",
          "text": [
            " \n",
            " Validatn - Epoch 23/50, loss:0.6566, Acc:0.6178\n",
            "----------------------------------------------------------\n"
          ],
          "name": "stdout"
        },
        {
          "output_type": "stream",
          "text": [
            "53it [23:25, 26.51s/it]"
          ],
          "name": "stderr"
        },
        {
          "output_type": "stream",
          "text": [
            "\n",
            " Training - Epoch 24/50, loss:0.6600 \n"
          ],
          "name": "stdout"
        },
        {
          "output_type": "stream",
          "text": [
            "\n",
            "13it [04:00, 18.53s/it]"
          ],
          "name": "stderr"
        },
        {
          "output_type": "stream",
          "text": [
            " \n",
            " Validatn - Epoch 24/50, loss:0.6495, Acc:0.6346\n",
            "----------------------------------------------------------\n"
          ],
          "name": "stdout"
        },
        {
          "output_type": "stream",
          "text": [
            "\n",
            "53it [23:13, 26.29s/it]"
          ],
          "name": "stderr"
        },
        {
          "output_type": "stream",
          "text": [
            "\n",
            " Training - Epoch 25/50, loss:0.6535 \n"
          ],
          "name": "stdout"
        },
        {
          "output_type": "stream",
          "text": [
            "\n",
            "13it [03:58, 18.38s/it]\n"
          ],
          "name": "stderr"
        },
        {
          "output_type": "stream",
          "text": [
            " \n",
            " Validatn - Epoch 25/50, loss:0.6455, Acc:0.6406\n",
            "----------------------------------------------------------\n"
          ],
          "name": "stdout"
        },
        {
          "output_type": "stream",
          "text": [
            "53it [22:44, 25.74s/it]"
          ],
          "name": "stderr"
        },
        {
          "output_type": "stream",
          "text": [
            "\n",
            " Training - Epoch 26/50, loss:0.6337 \n"
          ],
          "name": "stdout"
        },
        {
          "output_type": "stream",
          "text": [
            "\n",
            "13it [03:55, 18.14s/it]\n"
          ],
          "name": "stderr"
        },
        {
          "output_type": "stream",
          "text": [
            " \n",
            " Validatn - Epoch 26/50, loss:0.6366, Acc:0.6346\n",
            "----------------------------------------------------------\n"
          ],
          "name": "stdout"
        },
        {
          "output_type": "stream",
          "text": [
            "53it [22:40, 25.66s/it]"
          ],
          "name": "stderr"
        },
        {
          "output_type": "stream",
          "text": [
            "\n",
            " Training - Epoch 27/50, loss:0.6320 \n"
          ],
          "name": "stdout"
        },
        {
          "output_type": "stream",
          "text": [
            "\n",
            "13it [04:00, 18.49s/it]\n"
          ],
          "name": "stderr"
        },
        {
          "output_type": "stream",
          "text": [
            " \n",
            " Validatn - Epoch 27/50, loss:0.6373, Acc:0.6370\n",
            "----------------------------------------------------------\n"
          ],
          "name": "stdout"
        },
        {
          "output_type": "stream",
          "text": [
            "53it [23:48, 26.96s/it]"
          ],
          "name": "stderr"
        },
        {
          "output_type": "stream",
          "text": [
            "\n",
            " Training - Epoch 28/50, loss:0.6321 \n"
          ],
          "name": "stdout"
        },
        {
          "output_type": "stream",
          "text": [
            "\n",
            "13it [04:04, 18.82s/it]"
          ],
          "name": "stderr"
        },
        {
          "output_type": "stream",
          "text": [
            " \n",
            " Validatn - Epoch 28/50, loss:0.6445, Acc:0.6226\n",
            "----------------------------------------------------------\n"
          ],
          "name": "stdout"
        },
        {
          "output_type": "stream",
          "text": [
            "\n",
            "53it [24:16, 27.49s/it]"
          ],
          "name": "stderr"
        },
        {
          "output_type": "stream",
          "text": [
            "\n",
            " Training - Epoch 29/50, loss:0.6214 \n"
          ],
          "name": "stdout"
        },
        {
          "output_type": "stream",
          "text": [
            "\n",
            "13it [04:09, 19.20s/it]\n"
          ],
          "name": "stderr"
        },
        {
          "output_type": "stream",
          "text": [
            " \n",
            " Validatn - Epoch 29/50, loss:0.6823, Acc:0.6238\n",
            "----------------------------------------------------------\n"
          ],
          "name": "stdout"
        },
        {
          "output_type": "stream",
          "text": [
            "53it [24:28, 27.72s/it]"
          ],
          "name": "stderr"
        },
        {
          "output_type": "stream",
          "text": [
            "\n",
            " Training - Epoch 30/50, loss:0.6221 \n"
          ],
          "name": "stdout"
        },
        {
          "output_type": "stream",
          "text": [
            "\n",
            "13it [04:10, 19.27s/it]"
          ],
          "name": "stderr"
        },
        {
          "output_type": "stream",
          "text": [
            " \n",
            " Validatn - Epoch 30/50, loss:0.6270, Acc:0.6454\n",
            "----------------------------------------------------------\n"
          ],
          "name": "stdout"
        },
        {
          "output_type": "stream",
          "text": [
            "\n",
            "53it [24:20, 27.56s/it]"
          ],
          "name": "stderr"
        },
        {
          "output_type": "stream",
          "text": [
            "\n",
            " Training - Epoch 31/50, loss:0.6090 \n"
          ],
          "name": "stdout"
        },
        {
          "output_type": "stream",
          "text": [
            "\n",
            "13it [04:08, 19.10s/it]"
          ],
          "name": "stderr"
        },
        {
          "output_type": "stream",
          "text": [
            " \n",
            " Validatn - Epoch 31/50, loss:0.6274, Acc:0.6370\n",
            "----------------------------------------------------------\n"
          ],
          "name": "stdout"
        },
        {
          "output_type": "stream",
          "text": [
            "\n",
            "53it [24:21, 27.58s/it]"
          ],
          "name": "stderr"
        },
        {
          "output_type": "stream",
          "text": [
            "\n",
            " Training - Epoch 32/50, loss:0.6036 \n"
          ],
          "name": "stdout"
        },
        {
          "output_type": "stream",
          "text": [
            "\n",
            "13it [04:09, 19.16s/it]"
          ],
          "name": "stderr"
        },
        {
          "output_type": "stream",
          "text": [
            " \n",
            " Validatn - Epoch 32/50, loss:0.6275, Acc:0.6370\n",
            "----------------------------------------------------------\n"
          ],
          "name": "stdout"
        },
        {
          "output_type": "stream",
          "text": [
            "\n",
            "53it [23:56, 27.11s/it]"
          ],
          "name": "stderr"
        },
        {
          "output_type": "stream",
          "text": [
            "\n",
            " Training - Epoch 33/50, loss:0.6071 \n"
          ],
          "name": "stdout"
        },
        {
          "output_type": "stream",
          "text": [
            "\n",
            "13it [04:02, 18.65s/it]\n"
          ],
          "name": "stderr"
        },
        {
          "output_type": "stream",
          "text": [
            " \n",
            " Validatn - Epoch 33/50, loss:0.6280, Acc:0.6406\n",
            "----------------------------------------------------------\n"
          ],
          "name": "stdout"
        },
        {
          "output_type": "stream",
          "text": [
            "53it [23:32, 26.66s/it]"
          ],
          "name": "stderr"
        },
        {
          "output_type": "stream",
          "text": [
            "\n",
            " Training - Epoch 34/50, loss:0.6058 \n"
          ],
          "name": "stdout"
        },
        {
          "output_type": "stream",
          "text": [
            "\n",
            "13it [03:59, 18.40s/it]"
          ],
          "name": "stderr"
        },
        {
          "output_type": "stream",
          "text": [
            " \n",
            " Validatn - Epoch 34/50, loss:0.6275, Acc:0.6394\n",
            "----------------------------------------------------------\n"
          ],
          "name": "stdout"
        },
        {
          "output_type": "stream",
          "text": [
            "\n",
            "53it [22:47, 25.80s/it]"
          ],
          "name": "stderr"
        },
        {
          "output_type": "stream",
          "text": [
            "\n",
            " Training - Epoch 35/50, loss:0.6099 \n"
          ],
          "name": "stdout"
        },
        {
          "output_type": "stream",
          "text": [
            "\n",
            "13it [03:53, 17.99s/it]\n"
          ],
          "name": "stderr"
        },
        {
          "output_type": "stream",
          "text": [
            " \n",
            " Validatn - Epoch 35/50, loss:0.6271, Acc:0.6382\n",
            "----------------------------------------------------------\n"
          ],
          "name": "stdout"
        },
        {
          "output_type": "stream",
          "text": [
            "53it [22:20, 25.29s/it]"
          ],
          "name": "stderr"
        },
        {
          "output_type": "stream",
          "text": [
            "\n",
            " Training - Epoch 36/50, loss:0.6097 \n"
          ],
          "name": "stdout"
        },
        {
          "output_type": "stream",
          "text": [
            "\n",
            "13it [03:49, 17.67s/it]"
          ],
          "name": "stderr"
        },
        {
          "output_type": "stream",
          "text": [
            " \n",
            " Validatn - Epoch 36/50, loss:0.6266, Acc:0.6394\n",
            "----------------------------------------------------------\n"
          ],
          "name": "stdout"
        },
        {
          "output_type": "stream",
          "text": [
            "\n",
            "53it [22:20, 25.28s/it]"
          ],
          "name": "stderr"
        },
        {
          "output_type": "stream",
          "text": [
            "\n",
            " Training - Epoch 37/50, loss:0.6027 \n"
          ],
          "name": "stdout"
        },
        {
          "output_type": "stream",
          "text": [
            "\n",
            "13it [03:56, 18.23s/it]"
          ],
          "name": "stderr"
        },
        {
          "output_type": "stream",
          "text": [
            " \n",
            " Validatn - Epoch 37/50, loss:0.6261, Acc:0.6370\n",
            "----------------------------------------------------------\n"
          ],
          "name": "stdout"
        },
        {
          "output_type": "stream",
          "text": [
            "\n",
            "53it [23:29, 26.59s/it]"
          ],
          "name": "stderr"
        },
        {
          "output_type": "stream",
          "text": [
            "\n",
            " Training - Epoch 38/50, loss:0.6050 \n"
          ],
          "name": "stdout"
        },
        {
          "output_type": "stream",
          "text": [
            "\n",
            "13it [03:58, 18.34s/it]"
          ],
          "name": "stderr"
        },
        {
          "output_type": "stream",
          "text": [
            " \n",
            " Validatn - Epoch 38/50, loss:0.6258, Acc:0.6334\n",
            "----------------------------------------------------------\n"
          ],
          "name": "stdout"
        },
        {
          "output_type": "stream",
          "text": [
            "\n",
            "53it [22:52, 25.90s/it]"
          ],
          "name": "stderr"
        },
        {
          "output_type": "stream",
          "text": [
            "\n",
            " Training - Epoch 39/50, loss:0.6125 \n"
          ],
          "name": "stdout"
        },
        {
          "output_type": "stream",
          "text": [
            "\n",
            "13it [03:55, 18.13s/it]\n"
          ],
          "name": "stderr"
        },
        {
          "output_type": "stream",
          "text": [
            " \n",
            " Validatn - Epoch 39/50, loss:0.6263, Acc:0.6382\n",
            "----------------------------------------------------------\n"
          ],
          "name": "stdout"
        },
        {
          "output_type": "stream",
          "text": [
            "53it [22:50, 25.87s/it]"
          ],
          "name": "stderr"
        },
        {
          "output_type": "stream",
          "text": [
            "\n",
            " Training - Epoch 40/50, loss:0.6088 \n"
          ],
          "name": "stdout"
        },
        {
          "output_type": "stream",
          "text": [
            "\n",
            "13it [03:49, 17.63s/it]\n"
          ],
          "name": "stderr"
        },
        {
          "output_type": "stream",
          "text": [
            " \n",
            " Validatn - Epoch 40/50, loss:0.6260, Acc:0.6346\n",
            "----------------------------------------------------------\n"
          ],
          "name": "stdout"
        },
        {
          "output_type": "stream",
          "text": [
            "53it [22:37, 25.62s/it]"
          ],
          "name": "stderr"
        },
        {
          "output_type": "stream",
          "text": [
            "\n",
            " Training - Epoch 41/50, loss:0.6085 \n"
          ],
          "name": "stdout"
        },
        {
          "output_type": "stream",
          "text": [
            "\n",
            "13it [03:58, 18.31s/it]\n"
          ],
          "name": "stderr"
        },
        {
          "output_type": "stream",
          "text": [
            " \n",
            " Validatn - Epoch 41/50, loss:0.6258, Acc:0.6346\n",
            "----------------------------------------------------------\n"
          ],
          "name": "stdout"
        },
        {
          "output_type": "stream",
          "text": [
            "53it [23:03, 26.11s/it]"
          ],
          "name": "stderr"
        },
        {
          "output_type": "stream",
          "text": [
            "\n",
            " Training - Epoch 42/50, loss:0.5999 \n"
          ],
          "name": "stdout"
        },
        {
          "output_type": "stream",
          "text": [
            "\n",
            "13it [03:56, 18.20s/it]"
          ],
          "name": "stderr"
        },
        {
          "output_type": "stream",
          "text": [
            " \n",
            " Validatn - Epoch 42/50, loss:0.6262, Acc:0.6394\n",
            "----------------------------------------------------------\n"
          ],
          "name": "stdout"
        },
        {
          "output_type": "stream",
          "text": [
            "\n",
            "53it [22:37, 25.62s/it]"
          ],
          "name": "stderr"
        },
        {
          "output_type": "stream",
          "text": [
            "\n",
            " Training - Epoch 43/50, loss:0.6080 \n"
          ],
          "name": "stdout"
        },
        {
          "output_type": "stream",
          "text": [
            "\n",
            "13it [03:54, 18.05s/it]\n"
          ],
          "name": "stderr"
        },
        {
          "output_type": "stream",
          "text": [
            " \n",
            " Validatn - Epoch 43/50, loss:0.6260, Acc:0.6418\n",
            "----------------------------------------------------------\n"
          ],
          "name": "stdout"
        },
        {
          "output_type": "stream",
          "text": [
            "53it [22:44, 25.74s/it]"
          ],
          "name": "stderr"
        },
        {
          "output_type": "stream",
          "text": [
            "\n",
            " Training - Epoch 44/50, loss:0.6040 \n"
          ],
          "name": "stdout"
        },
        {
          "output_type": "stream",
          "text": [
            "\n",
            "13it [03:54, 18.02s/it]"
          ],
          "name": "stderr"
        },
        {
          "output_type": "stream",
          "text": [
            " \n",
            " Validatn - Epoch 44/50, loss:0.6255, Acc:0.6406\n",
            "----------------------------------------------------------\n"
          ],
          "name": "stdout"
        },
        {
          "output_type": "stream",
          "text": [
            "\n",
            "53it [22:34, 25.56s/it]"
          ],
          "name": "stderr"
        },
        {
          "output_type": "stream",
          "text": [
            "\n",
            " Training - Epoch 45/50, loss:0.6049 \n"
          ],
          "name": "stdout"
        },
        {
          "output_type": "stream",
          "text": [
            "\n",
            "13it [03:59, 18.45s/it]\n"
          ],
          "name": "stderr"
        },
        {
          "output_type": "stream",
          "text": [
            " \n",
            " Validatn - Epoch 45/50, loss:0.6252, Acc:0.6358\n",
            "----------------------------------------------------------\n"
          ],
          "name": "stdout"
        },
        {
          "output_type": "stream",
          "text": [
            "53it [22:53, 25.92s/it]"
          ],
          "name": "stderr"
        },
        {
          "output_type": "stream",
          "text": [
            "\n",
            " Training - Epoch 46/50, loss:0.6011 \n"
          ],
          "name": "stdout"
        },
        {
          "output_type": "stream",
          "text": [
            "\n",
            "13it [03:55, 18.09s/it]"
          ],
          "name": "stderr"
        },
        {
          "output_type": "stream",
          "text": [
            " \n",
            " Validatn - Epoch 46/50, loss:0.6251, Acc:0.6370\n",
            "----------------------------------------------------------\n"
          ],
          "name": "stdout"
        },
        {
          "output_type": "stream",
          "text": [
            "\n",
            "53it [22:35, 25.58s/it]"
          ],
          "name": "stderr"
        },
        {
          "output_type": "stream",
          "text": [
            "\n",
            " Training - Epoch 47/50, loss:0.6071 \n"
          ],
          "name": "stdout"
        },
        {
          "output_type": "stream",
          "text": [
            "\n",
            "13it [03:55, 18.10s/it]"
          ],
          "name": "stderr"
        },
        {
          "output_type": "stream",
          "text": [
            " \n",
            " Validatn - Epoch 47/50, loss:0.6253, Acc:0.6394\n",
            "----------------------------------------------------------\n"
          ],
          "name": "stdout"
        },
        {
          "output_type": "stream",
          "text": [
            "\n",
            "53it [23:09, 26.21s/it]"
          ],
          "name": "stderr"
        },
        {
          "output_type": "stream",
          "text": [
            "\n",
            " Training - Epoch 48/50, loss:0.6022 \n"
          ],
          "name": "stdout"
        },
        {
          "output_type": "stream",
          "text": [
            "\n",
            "7it [02:29, 21.58s/it]"
          ],
          "name": "stderr"
        }
      ]
    }
  ]
}